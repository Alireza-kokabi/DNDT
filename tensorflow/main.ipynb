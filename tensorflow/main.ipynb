{
  "nbformat": 4,
  "nbformat_minor": 0,
  "metadata": {
    "kernelspec": {
      "display_name": "Python 3",
      "language": "python",
      "name": "python3"
    },
    "language_info": {
      "codemirror_mode": {
        "name": "ipython",
        "version": 3
      },
      "file_extension": ".py",
      "mimetype": "text/x-python",
      "name": "python",
      "nbconvert_exporter": "python",
      "pygments_lexer": "ipython3",
      "version": "3.6.5"
    },
    "colab": {
      "name": "main.ipynb",
      "provenance": []
    }
  },
  "cells": [
    {
      "cell_type": "code",
      "metadata": {
        "id": "m-Da0AkGKSft"
      },
      "source": [
        "!pip uninstall tensorflow"
      ],
      "execution_count": null,
      "outputs": []
    },
    {
      "cell_type": "code",
      "metadata": {
        "id": "baZQ5y6jKc51"
      },
      "source": [
        "!pip install tensorflow==1.15.5"
      ],
      "execution_count": null,
      "outputs": []
    },
    {
      "cell_type": "code",
      "metadata": {
        "id": "bE5IIcs4DQ4v"
      },
      "source": [
        "import numpy as np\n",
        "import tensorflow as tf\n",
        "import iris\n",
        "import matplotlib.pyplot as plt\n",
        "from neural_network_decision_tree import nn_decision_tree\n",
        "import pandas as pd"
      ],
      "execution_count": 1,
      "outputs": []
    },
    {
      "cell_type": "code",
      "metadata": {
        "colab": {
          "base_uri": "https://localhost:8080/",
          "height": 35
        },
        "id": "Y7P4TSLNDQ4x",
        "outputId": "490ad5e0-5fa0-4f73-8802-0087263b7a69"
      },
      "source": [
        "tf.__version__"
      ],
      "execution_count": 2,
      "outputs": [
        {
          "output_type": "execute_result",
          "data": {
            "application/vnd.google.colaboratory.intrinsic+json": {
              "type": "string"
            },
            "text/plain": [
              "'1.15.5'"
            ]
          },
          "metadata": {},
          "execution_count": 2
        }
      ]
    },
    {
      "cell_type": "code",
      "metadata": {
        "id": "KGgL5ah2DQ41"
      },
      "source": [
        "np.random.seed(1943)\n",
        "tf.set_random_seed(1943)"
      ],
      "execution_count": 3,
      "outputs": []
    },
    {
      "cell_type": "code",
      "metadata": {
        "id": "7qnJGxJ4DwSI"
      },
      "source": [
        "dataset = pd.read_excel('/content/Kaggle_Sirio_Libanes_ICU_Prediction.xlsx')"
      ],
      "execution_count": 168,
      "outputs": []
    },
    {
      "cell_type": "code",
      "metadata": {
        "id": "5Mkl8U6zmNm2"
      },
      "source": [
        "age = pd.get_dummies(dataset['AGE_PERCENTIL'],drop_first=True)\n",
        "window = pd.get_dummies(dataset['WINDOW'],drop_first=True)\n",
        "dataset.drop(['AGE_PERCENTIL','WINDOW'],axis=1,inplace=True)\n",
        "dataset = pd.concat([dataset,age,window],axis=1)"
      ],
      "execution_count": 169,
      "outputs": []
    },
    {
      "cell_type": "code",
      "metadata": {
        "id": "wlw871iqDQ41"
      },
      "source": [
        "x = dataset.iloc[:, 3:9] # use \"Petal length\" and \"Petal width\" only\n",
        "y = dataset[\"ICU\"]\n",
        "d = x.shape[1]"
      ],
      "execution_count": 177,
      "outputs": []
    },
    {
      "cell_type": "code",
      "metadata": {
        "id": "zX5kn_tADQ42"
      },
      "source": [
        "num_cut = [1, 1]  # \"Petal length\" and \"Petal width\"\n",
        "num_leaf = np.prod(np.array(num_cut) + 1)\n",
        "num_class = 3"
      ],
      "execution_count": 144,
      "outputs": []
    },
    {
      "cell_type": "code",
      "metadata": {
        "colab": {
          "base_uri": "https://localhost:8080/"
        },
        "id": "1q81WnhwDQ44",
        "outputId": "4d131d1b-ef4c-4337-c714-afa3af69615d"
      },
      "source": [
        "sess = tf.InteractiveSession()"
      ],
      "execution_count": 145,
      "outputs": [
        {
          "output_type": "stream",
          "name": "stderr",
          "text": [
            "/usr/local/lib/python3.7/dist-packages/tensorflow_core/python/client/session.py:1750: UserWarning: An interactive session is already active. This can cause out-of-memory errors in some cases. You must explicitly call `InteractiveSession.close()` to release resources held by the other session(s).\n",
            "  warnings.warn('An interactive session is already active. This can '\n"
          ]
        }
      ]
    },
    {
      "cell_type": "code",
      "metadata": {
        "id": "dZWkKzpkDQ47"
      },
      "source": [
        "x_ph = tf.placeholder(tf.float32, [None, d])\n",
        "y_ph = tf.placeholder(tf.float32, [None, num_class])"
      ],
      "execution_count": 146,
      "outputs": []
    },
    {
      "cell_type": "code",
      "metadata": {
        "id": "DE5zZOm7DQ48"
      },
      "source": [
        "cut_points_list = [tf.Variable(tf.random_uniform([i])) for i in num_cut]\n",
        "leaf_score = tf.Variable(tf.random_uniform([num_leaf, num_class]))"
      ],
      "execution_count": 147,
      "outputs": []
    },
    {
      "cell_type": "code",
      "metadata": {
        "id": "fqnA4W44DQ49"
      },
      "source": [
        "y_pred = nn_decision_tree(x_ph, cut_points_list, leaf_score, temperature=0.1)\n",
        "loss = tf.reduce_mean(tf.losses.softmax_cross_entropy(logits=y_pred, onehot_labels=y_ph))"
      ],
      "execution_count": 148,
      "outputs": []
    },
    {
      "cell_type": "code",
      "metadata": {
        "id": "qpWLUcLWDQ4-"
      },
      "source": [
        "opt = tf.train.AdamOptimizer(0.1)\n",
        "train_step = opt.minimize(loss)"
      ],
      "execution_count": 149,
      "outputs": []
    },
    {
      "cell_type": "code",
      "metadata": {
        "id": "TW-M8gvaDQ4_"
      },
      "source": [
        "sess.run(tf.global_variables_initializer())"
      ],
      "execution_count": 150,
      "outputs": []
    },
    {
      "cell_type": "code",
      "metadata": {
        "id": "wWVX1XljDQ5A"
      },
      "source": [
        "for i in range(1000):\n",
        "    _, loss_e = sess.run([train_step, loss], feed_dict={x_ph: x, y_ph: y})\n",
        "    if i % 200 == 0:\n",
        "        print(loss_e)\n",
        "print('error rate %.2f' % (1 - np.mean(np.argmax(y_pred.eval(feed_dict={x_ph: x}), axis=1) == np.argmax(y, axis=1))))"
      ],
      "execution_count": null,
      "outputs": []
    }
  ]
}