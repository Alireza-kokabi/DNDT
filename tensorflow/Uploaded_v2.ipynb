{
 "cells": [
  {
   "cell_type": "markdown",
   "id": "b0cfffb2",
   "metadata": {},
   "source": [
    "# Setting"
   ]
  },
  {
   "cell_type": "code",
   "execution_count": 57,
   "id": "5a4c93f0",
   "metadata": {},
   "outputs": [],
   "source": [
    "import numpy as np\n",
    "import tensorflow as tf\n",
    "import iris\n",
    "import matplotlib.pyplot as plt\n",
    "from neural_network_decision_tree import nn_decision_tree\n",
    "import pandas as pd\n",
    "import xgboost as xgb\n",
    "import math\n",
    "from sklearn.model_selection import train_test_split \n",
    "import sklearn.metrics \n",
    "from sklearn.model_selection import GridSearchCV\n",
    "from sklearn.metrics import plot_confusion_matrix\n",
    "%matplotlib inline"
   ]
  },
  {
   "cell_type": "markdown",
   "id": "59c4f77a",
   "metadata": {},
   "source": [
    "# Load Data"
   ]
  },
  {
   "cell_type": "code",
   "execution_count": 51,
   "id": "94df2383",
   "metadata": {},
   "outputs": [
    {
     "name": "stdout",
     "output_type": "stream",
     "text": [
      "PATIENT_VISIT_IDENTIFIER        0\n",
      "AGE_ABOVE65                     0\n",
      "AGE_PERCENTIL                   0\n",
      "GENDER                          0\n",
      "DISEASE GROUPING 1              5\n",
      "                             ... \n",
      "RESPIRATORY_RATE_DIFF_REL     748\n",
      "TEMPERATURE_DIFF_REL          694\n",
      "OXYGEN_SATURATION_DIFF_REL    686\n",
      "WINDOW                          0\n",
      "ICU                             0\n",
      "Length: 231, dtype: int64\n"
     ]
    }
   ],
   "source": [
    "data = pd.read_excel (r'Kaggle_Sirio_Libanes_ICU_Prediction.xlsx') \n",
    "print(data.isnull().sum())"
   ]
  },
  {
   "cell_type": "markdown",
   "id": "32d30beb",
   "metadata": {},
   "source": [
    "# EDA & Data Prepaertion"
   ]
  },
  {
   "cell_type": "code",
   "execution_count": 52,
   "id": "78ef9c48",
   "metadata": {},
   "outputs": [
    {
     "name": "stdout",
     "output_type": "stream",
     "text": [
      "____________________________________________________\n",
      "PATIENT_VISIT_IDENTIFIER           0\n",
      "AGE_ABOVE65                        0\n",
      "GENDER                             0\n",
      "DISEASE GROUPING 1                 0\n",
      "DISEASE GROUPING 2                 0\n",
      "                                  ..\n",
      "BLOODPRESSURE_SISTOLIC_DIFF_REL    0\n",
      "HEART_RATE_DIFF_REL                0\n",
      "RESPIRATORY_RATE_DIFF_REL          0\n",
      "TEMPERATURE_DIFF_REL               0\n",
      "OXYGEN_SATURATION_DIFF_REL         0\n",
      "Length: 228, dtype: int64\n"
     ]
    }
   ],
   "source": [
    "missing_data = (data.isnull().sum())/data.shape[0]\n",
    "# print(len(missing_data))\n",
    "\n",
    "inputs = data.drop(['AGE_PERCENTIL', 'ICU', 'WINDOW'], axis=1)\n",
    "y = data['ICU']\n",
    "imputed_data = pd.DataFrame(columns=inputs.columns)\n",
    "\n",
    "for index, row in inputs.iterrows():\n",
    "    \n",
    "    if index == 0: \n",
    "        temp_values = row.to_dict() \n",
    "  \n",
    "    for col in inputs.columns:\n",
    "        if math.isnan(float(row[col])):\n",
    "            row[col] = temp_values[col]\n",
    "      \n",
    "    \n",
    "    imputed_data = imputed_data.append(row.to_dict(), ignore_index=True)\n",
    "    temp_values = row.to_dict()\n",
    "    \n",
    "print(\"____________________________________________________\")          \n",
    "print(imputed_data.isnull().sum())\n"
   ]
  },
  {
   "cell_type": "markdown",
   "id": "7fad148d",
   "metadata": {},
   "source": [
    "# XGBoost"
   ]
  },
  {
   "cell_type": "code",
   "execution_count": 53,
   "id": "5232346a",
   "metadata": {},
   "outputs": [
    {
     "name": "stdout",
     "output_type": "stream",
     "text": [
      "0.2675324675324675\n"
     ]
    }
   ],
   "source": [
    "# train/test split data\n",
    "print(y.sum()/ len(y)) # 27% patients do have readmissions\n",
    "\n",
    "X_train, X_test, y_train, y_test = train_test_split(inputs, data['ICU'], random_state = 42, stratify = y )\n"
   ]
  },
  {
   "cell_type": "code",
   "execution_count": 54,
   "id": "0391650b",
   "metadata": {},
   "outputs": [
    {
     "name": "stdout",
     "output_type": "stream",
     "text": [
      "[14:37:13] WARNING: ..\\src\\learner.cc:541: \n",
      "Parameters: { Objective } might not be used.\n",
      "\n",
      "  This may not be accurate due to some parameters are only used in language bindings but\n",
      "  passed down to XGBoost core.  Or some parameters are not used but slip through this\n",
      "  verification. Please open an issue if you find above cases.\n",
      "\n",
      "\n",
      "[0]\tvalidation_0-aucpr:0.79236\n",
      "[1]\tvalidation_0-aucpr:0.80426\n",
      "[2]\tvalidation_0-aucpr:0.81748\n",
      "[3]\tvalidation_0-aucpr:0.84472\n",
      "[4]\tvalidation_0-aucpr:0.84524\n",
      "[5]\tvalidation_0-aucpr:0.85373\n",
      "[6]\tvalidation_0-aucpr:0.85243\n",
      "[7]\tvalidation_0-aucpr:0.86018\n",
      "[8]\tvalidation_0-aucpr:0.86254\n",
      "[9]\tvalidation_0-aucpr:0.86399\n",
      "[10]\tvalidation_0-aucpr:0.86538\n",
      "[11]\tvalidation_0-aucpr:0.86597\n",
      "[12]\tvalidation_0-aucpr:0.87007\n",
      "[13]\tvalidation_0-aucpr:0.87291\n",
      "[14]\tvalidation_0-aucpr:0.87329\n"
     ]
    },
    {
     "name": "stderr",
     "output_type": "stream",
     "text": [
      "C:\\Users\\mkmag\\anaconda3\\envs\\tf\\lib\\site-packages\\xgboost\\sklearn.py:888: UserWarning: The use of label encoder in XGBClassifier is deprecated and will be removed in a future release. To remove this warning, do the following: 1) Pass option use_label_encoder=False when constructing XGBClassifier object; and 2) Encode your labels (y) as integers starting with 0, i.e. 0, 1, 2, ..., [num_class - 1].\n",
      "  warnings.warn(label_encoder_deprecation_msg, UserWarning)\n"
     ]
    },
    {
     "name": "stdout",
     "output_type": "stream",
     "text": [
      "[15]\tvalidation_0-aucpr:0.87765\n",
      "[16]\tvalidation_0-aucpr:0.88390\n",
      "[17]\tvalidation_0-aucpr:0.88360\n",
      "[18]\tvalidation_0-aucpr:0.88338\n",
      "[19]\tvalidation_0-aucpr:0.88588\n",
      "[20]\tvalidation_0-aucpr:0.88703\n",
      "[21]\tvalidation_0-aucpr:0.89007\n",
      "[22]\tvalidation_0-aucpr:0.89109\n",
      "[23]\tvalidation_0-aucpr:0.89262\n",
      "[24]\tvalidation_0-aucpr:0.89248\n",
      "[25]\tvalidation_0-aucpr:0.89489\n",
      "[26]\tvalidation_0-aucpr:0.89391\n",
      "[27]\tvalidation_0-aucpr:0.89325\n",
      "[28]\tvalidation_0-aucpr:0.89370\n",
      "[29]\tvalidation_0-aucpr:0.89294\n",
      "[30]\tvalidation_0-aucpr:0.89262\n",
      "[31]\tvalidation_0-aucpr:0.89281\n",
      "[32]\tvalidation_0-aucpr:0.89232\n",
      "[33]\tvalidation_0-aucpr:0.89262\n",
      "[34]\tvalidation_0-aucpr:0.89252\n",
      "[35]\tvalidation_0-aucpr:0.89248\n"
     ]
    },
    {
     "data": {
      "text/plain": [
       "XGBClassifier(Objective='binary:logistic', base_score=0.5, booster='gbtree',\n",
       "              colsample_bylevel=1, colsample_bynode=1, colsample_bytree=1,\n",
       "              gamma=0, gpu_id=-1, importance_type='gain',\n",
       "              interaction_constraints='', learning_rate=0.300000012,\n",
       "              max_delta_step=0, max_depth=6, min_child_weight=1, missing=None,\n",
       "              monotone_constraints='()', n_estimators=100, n_jobs=8,\n",
       "              num_parallel_tree=1, random_state=42, reg_alpha=0, reg_lambda=1,\n",
       "              scale_pos_weight=1, seed=42, subsample=1, tree_method='exact',\n",
       "              validate_parameters=1, verbosity=None)"
      ]
     },
     "execution_count": 54,
     "metadata": {},
     "output_type": "execute_result"
    }
   ],
   "source": [
    "clf_xgb = xgb.XGBClassifier(Objective = 'binary:logistic', missing = None, seed=42)\n",
    "clf_xgb.fit(X_train, y_train, verbose=True, early_stopping_rounds = 10, eval_metric='aucpr', eval_set = [(X_test, y_test)])"
   ]
  },
  {
   "cell_type": "code",
   "execution_count": 55,
   "id": "594db7e5",
   "metadata": {},
   "outputs": [
    {
     "data": {
      "text/plain": [
       "<sklearn.metrics._plot.confusion_matrix.ConfusionMatrixDisplay at 0x1ae26fad820>"
      ]
     },
     "execution_count": 55,
     "metadata": {},
     "output_type": "execute_result"
    },
    {
     "data": {
      "image/png": "[encoded data removed]",
      "text/plain": [
       "<Figure size 432x288 with 2 Axes>"
      ]
     },
     "metadata": {
      "needs_background": "light"
     },
     "output_type": "display_data"
    }
   ],
   "source": [
    "plot_confusion_matrix(clf_xgb, X_test, y_test, values_format='d', display_labels=['none', 'readmission'])"
   ]
  },
  {
   "cell_type": "markdown",
   "id": "091f2702",
   "metadata": {},
   "source": [
    "\n",
    "## Conclusion \n",
    "<b> XGBoost</b> is not awsome for this probelm, maybe because our data is imbalanced.\n",
    "Let's use scale_pos_weight that gives penalty for incorrectly classifying minority class. "
   ]
  },
  {
   "cell_type": "markdown",
   "id": "eaa143d4",
   "metadata": {},
   "source": [
    "### If the data is imbalanced: XGBoost says :\n",
    "<p>1- Use AUC for validation <br>\n",
    "2- Balance the positive and negetive weights via scale_pos_weight </p>\n"
   ]
  },
  {
   "cell_type": "code",
   "execution_count": 18,
   "id": "50b20647",
   "metadata": {},
   "outputs": [
    {
     "name": "stderr",
     "output_type": "stream",
     "text": [
      "C:\\Users\\mkmag\\anaconda3\\envs\\tf\\lib\\site-packages\\xgboost\\sklearn.py:888: UserWarning: The use of label encoder in XGBClassifier is deprecated and will be removed in a future release. To remove this warning, do the following: 1) Pass option use_label_encoder=False when constructing XGBClassifier object; and 2) Encode your labels (y) as integers starting with 0, i.e. 0, 1, 2, ..., [num_class - 1].\n",
      "  warnings.warn(label_encoder_deprecation_msg, UserWarning)\n"
     ]
    },
    {
     "name": "stdout",
     "output_type": "stream",
     "text": [
      "[10:30:17] WARNING: ..\\src\\learner.cc:541: \n",
      "Parameters: { colsammple_bytree, reg_lamda } might not be used.\n",
      "\n",
      "  This may not be accurate due to some parameters are only used in language bindings but\n",
      "  passed down to XGBoost core.  Or some parameters are not used but slip through this\n",
      "  verification. Please open an issue if you find above cases.\n",
      "\n",
      "\n",
      "{'gamma': 0, 'learning_rate': 0.1, 'max_depth': 7, 'reg_lamda': 0, 'scale_pos_weight': 1}\n"
     ]
    }
   ],
   "source": [
    "# param_grid = {\n",
    "#     'max_depth': [3, 4, 5, 6, 7],\n",
    "#     'learning_rate': [0.1, 0.01, 0.05],\n",
    "#     'gamma' : [0, 0.25, 1.0],\n",
    "#     'reg_lamda' : [0, 1.0, 10.0],\n",
    "#     'scale_pos_weight': [1, 3, 5]\n",
    "# }\n",
    "\n",
    "# #Note: to speed up CV and further prevents overfitting, we are using a random subset of data (90%), and random \n",
    "# # subset of features(50%) per tree. \n",
    "\n",
    "# optimal_params = GridSearchCV(estimator=xgb.XGBClassifier(objective='binary:logistic', seed = 42, subsample = 0.9, colsammple_bytree = 0.5), param_grid = param_grid, scoring = 'roc_auc', verbose = 0, n_jobs = 10, cv = 3)\n",
    "# optimal_params.fit(X_train, y_train, early_stopping_rounds=10, eval_metric='auc', eval_set=[(X_test, y_test)], verbose=False)\n",
    "# print(optimal_params.best_params_)"
   ]
  },
  {
   "cell_type": "markdown",
   "id": "778c275e",
   "metadata": {},
   "source": [
    "{'gamma': 0, 'learning_rate': 0.1, 'max_depth': 7, 'reg_lamda': 0, 'scale_pos_weight': 1}"
   ]
  },
  {
   "cell_type": "code",
   "execution_count": 30,
   "id": "11896de8",
   "metadata": {},
   "outputs": [
    {
     "name": "stdout",
     "output_type": "stream",
     "text": [
      "[13:20:16] WARNING: ..\\src\\learner.cc:541: \n",
      "Parameters: { Objective, learn_rate } might not be used.\n",
      "\n",
      "  This may not be accurate due to some parameters are only used in language bindings but\n",
      "  passed down to XGBoost core.  Or some parameters are not used but slip through this\n",
      "  verification. Please open an issue if you find above cases.\n",
      "\n",
      "\n",
      "[0]\tvalidation_0-aucpr:0.66944\n",
      "[1]\tvalidation_0-aucpr:0.74130\n",
      "[2]\tvalidation_0-aucpr:0.69355\n",
      "[3]\tvalidation_0-aucpr:0.75446\n",
      "[4]\tvalidation_0-aucpr:0.78378\n",
      "[5]\tvalidation_0-aucpr:0.80066\n",
      "[6]\tvalidation_0-aucpr:0.81674\n",
      "[7]\tvalidation_0-aucpr:0.81799\n",
      "[8]\tvalidation_0-aucpr:0.82485\n",
      "[9]\tvalidation_0-aucpr:0.82983\n",
      "[10]\tvalidation_0-aucpr:0.83725\n",
      "[11]\tvalidation_0-aucpr:0.84306\n",
      "[12]\tvalidation_0-aucpr:0.84830\n",
      "[13]\tvalidation_0-aucpr:0.85023\n",
      "[14]\tvalidation_0-aucpr:0.85053\n",
      "[15]\tvalidation_0-aucpr:0.85389\n",
      "[16]\tvalidation_0-aucpr:0.85392\n",
      "[17]\tvalidation_0-aucpr:0.86089\n"
     ]
    },
    {
     "name": "stderr",
     "output_type": "stream",
     "text": [
      "C:\\Users\\mkmag\\anaconda3\\envs\\tf\\lib\\site-packages\\xgboost\\sklearn.py:888: UserWarning: The use of label encoder in XGBClassifier is deprecated and will be removed in a future release. To remove this warning, do the following: 1) Pass option use_label_encoder=False when constructing XGBClassifier object; and 2) Encode your labels (y) as integers starting with 0, i.e. 0, 1, 2, ..., [num_class - 1].\n",
      "  warnings.warn(label_encoder_deprecation_msg, UserWarning)\n"
     ]
    },
    {
     "name": "stdout",
     "output_type": "stream",
     "text": [
      "[18]\tvalidation_0-aucpr:0.86194\n",
      "[19]\tvalidation_0-aucpr:0.86140\n",
      "[20]\tvalidation_0-aucpr:0.86209\n",
      "[21]\tvalidation_0-aucpr:0.86525\n",
      "[22]\tvalidation_0-aucpr:0.86682\n",
      "[23]\tvalidation_0-aucpr:0.87095\n",
      "[24]\tvalidation_0-aucpr:0.87555\n",
      "[25]\tvalidation_0-aucpr:0.87499\n",
      "[26]\tvalidation_0-aucpr:0.87468\n",
      "[27]\tvalidation_0-aucpr:0.87374\n",
      "[28]\tvalidation_0-aucpr:0.87410\n",
      "[29]\tvalidation_0-aucpr:0.87498\n",
      "[30]\tvalidation_0-aucpr:0.87550\n",
      "[31]\tvalidation_0-aucpr:0.87473\n",
      "[32]\tvalidation_0-aucpr:0.87333\n",
      "[33]\tvalidation_0-aucpr:0.87519\n",
      "[34]\tvalidation_0-aucpr:0.87413\n"
     ]
    },
    {
     "data": {
      "text/plain": [
       "XGBClassifier(Objective='binary:logistic', base_score=0.5, booster='gbtree',\n",
       "              colsample_bylevel=1, colsample_bynode=1, colsample_bytree=0.5,\n",
       "              gamma=0, gpu_id=-1, importance_type='gain',\n",
       "              interaction_constraints='', learn_rate=0.1,\n",
       "              learning_rate=0.300000012, max_delta_step=0, max_depth=7,\n",
       "              min_child_weight=1, missing=nan, monotone_constraints='()',\n",
       "              n_estimators=100, n_jobs=8, num_parallel_tree=1, random_state=42,\n",
       "              reg_alpha=0, reg_lambda=0, scale_pos_weight=1, seed=42,\n",
       "              subsample=0.9, tree_method='exact', validate_parameters=1,\n",
       "              verbosity=None)"
      ]
     },
     "execution_count": 30,
     "metadata": {},
     "output_type": "execute_result"
    }
   ],
   "source": [
    "clf_xgb = xgb.XGBClassifier(Objective = 'binary:logistic', seed=42, gamma=0, learn_rate = 0.1, \n",
    "                           max_depth = 7,\n",
    "                           reg_lambda = 0,\n",
    "                           scale_pos_weight = 1, \n",
    "                           subsample = 0.9, colsample_bytree = 0.5)\n",
    "clf_xgb.fit(X_train, y_train, verbose=True, early_stopping_rounds = 10, eval_metric='aucpr', eval_set = [(X_test, y_test)])"
   ]
  },
  {
   "cell_type": "code",
   "execution_count": 31,
   "id": "50e5b115",
   "metadata": {},
   "outputs": [
    {
     "data": {
      "text/plain": [
       "<sklearn.metrics._plot.confusion_matrix.ConfusionMatrixDisplay at 0x1ae22465ca0>"
      ]
     },
     "execution_count": 31,
     "metadata": {},
     "output_type": "execute_result"
    },
    {
     "data": {
      "image/png": "[encoded data removed]",
      "text/plain": [
       "<Figure size 432x288 with 2 Axes>"
      ]
     },
     "metadata": {
      "needs_background": "light"
     },
     "output_type": "display_data"
    }
   ],
   "source": [
    "plot_confusion_matrix(clf_xgb, X_test, y_test, values_format='d', display_labels=['none', 'readmission'])"
   ]
  },
  {
   "cell_type": "markdown",
   "id": "4db8eda8",
   "metadata": {},
   "source": [
    "# Q1:\n",
    "why the evaluation metric afeter gridsearch gets less?"
   ]
  },
  {
   "cell_type": "markdown",
   "id": "462bfb4c",
   "metadata": {},
   "source": [
    "# ROC Curve \n",
    "The ROC curve plots False Positive Rate on the X-axis and the True Positive Rate on the Y-axis\n",
    "\n",
    "<br>\n",
    "TPR(Sensitivity) = TP/(TP+FN)\n",
    "<br>\n",
    "FPR(1-Specificity) = FP/(TN+FP)"
   ]
  },
  {
   "cell_type": "markdown",
   "id": "2bf0c5d9",
   "metadata": {},
   "source": [
    "<b> Totaly 353 patients did not return back to the ICU and 335 didn't in real, means the accuray is 0.94. \n",
    "and 129 of them had readmission and 0.72 of them has modeled correctly.</b>\n",
    "\n",
    "FP : Type | Error : 18<br>\n",
    "FN : Type || Error : 35 <br>\n",
    "Accuracy : 94 + 335/ (94+335+18+35) = 0.89\n",
    "\n"
   ]
  },
  {
   "cell_type": "code",
   "execution_count": 56,
   "id": "c4e0f05b",
   "metadata": {},
   "outputs": [
    {
     "data": {
      "image/png": "[encoded data removed]",
      "text/plain": [
       "<Figure size 432x288 with 1 Axes>"
      ]
     },
     "metadata": {
      "needs_background": "light"
     },
     "output_type": "display_data"
    }
   ],
   "source": [
    "y_test_pred = clf_xgb.predict(X_test)\n",
    "\n",
    "\n",
    "def buildROC(target_test,test_preds):\n",
    "    fpr, tpr, threshold = metrics.roc_curve(target_test, test_preds)\n",
    "    roc_auc = metrics.auc(fpr, tpr)\n",
    "    plt.title('ICU Project ')\n",
    "    plt.plot(fpr, tpr, 'b', label = 'AUC = %0.2f' % roc_auc)\n",
    "    plt.legend(loc = 'lower right')\n",
    "    plt.plot([0, 1], [0, 1],'r--')\n",
    "    plt.ylabel('True Positive Rate')\n",
    "    plt.xlabel('False Positive Rate')\n",
    "    #plt.gcf().savefig('roc.png')\n",
    "    plt.show()\n",
    "    \n",
    "buildROC(y_test, y_test_pred)"
   ]
  },
  {
   "cell_type": "code",
   "execution_count": null,
   "id": "0a0327fc",
   "metadata": {},
   "outputs": [],
   "source": []
  }
 ],
 "metadata": {
  "kernelspec": {
   "display_name": "tf",
   "language": "python",
   "name": "tf"
  },
  "language_info": {
   "codemirror_mode": {
    "name": "ipython",
    "version": 3
   },
   "file_extension": ".py",
   "mimetype": "text/x-python",
   "name": "python",
   "nbconvert_exporter": "python",
   "pygments_lexer": "ipython3",
   "version": "3.8.11"
  }
 },
 "nbformat": 4,
 "nbformat_minor": 5
}
